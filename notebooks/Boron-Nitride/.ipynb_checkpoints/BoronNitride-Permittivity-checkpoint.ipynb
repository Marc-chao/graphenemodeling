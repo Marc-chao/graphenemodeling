{
 "cells": [
  {
   "cell_type": "code",
   "execution_count": 1,
   "metadata": {},
   "outputs": [],
   "source": [
    "# Tell Jupyter where to find the code\n",
    "import os, sys\n",
    "sys.path.append(os.environ['CODE']) #CODE is defined in the conda environment \"Notes\"\n",
    "import numpy as np\n",
    "import matplotlib.pyplot as plt\n",
    "plt.style.use('notebook')\n",
    "\n",
    "import optical_models as om\n",
    "import Electrodynamics as em\n",
    "import fundamental_constants as fc\n",
    "import Materials"
   ]
  },
  {
   "cell_type": "markdown",
   "metadata": {},
   "source": [
    "# Models"
   ]
  },
  {
   "cell_type": "markdown",
   "metadata": {},
   "source": [
    "The most common model of hBN permittivity is a Lorentzian model that describes the phonon contribution to the permittivity."
   ]
  },
  {
   "cell_type": "markdown",
   "metadata": {},
   "source": [
    "$$\n",
    "\\epsilon(\\omega)=\\left(\\begin{array}{}\n",
    "                    \\epsilon_x & 0 & 0 \\\\\n",
    "                    0 & \\epsilon_y & 0 \\\\\n",
    "                    0 & 0 & \\epsilon_z\n",
    "                   \\end{array}\\right)\n",
    "$$"
   ]
  },
  {
   "cell_type": "markdown",
   "metadata": {},
   "source": [
    "$$\n",
    "\\epsilon_x(\\omega)=\\epsilon_y(\\omega)=\\epsilon_{x,\\infty}+\\sum_j s_{j,x}\\frac{\\omega_{j,x}^2}{\\omega_{j,x}^2-i\\gamma_{j,x}\\omega-\\omega^2} \\\\\n",
    "\\epsilon_z(\\omega)=\\epsilon_{z,\\infty}+\\sum_j s_{j,z}\\frac{\\omega_{j,z}^2}{\\omega_{j,z}^2-i\\gamma_{j,z}\\omega-\\omega^2}\n",
    "$$"
   ]
  },
  {
   "cell_type": "markdown",
   "metadata": {},
   "source": [
    "In most cases, there is only a single term in the sum near the hBN phonon."
   ]
  },
  {
   "cell_type": "code",
   "execution_count": 5,
   "metadata": {},
   "outputs": [
    {
     "data": {
      "image/png": "[encoded data removed]",
      "text/plain": [
       "<Figure size 432x288 with 1 Axes>"
      ]
     },
     "metadata": {
      "needs_background": "light"
     },
     "output_type": "display_data"
    }
   ],
   "source": [
    "hbn = Materials.HexagonalBoronNitride(model='Cai:clean')\n",
    "\n",
    "k = np.linspace(200,2000,num=100) * 1e2\n",
    "omega = fc.c0*k\n",
    "\n",
    "epshbn = hbn.PermittivityInPlane(omega)\n",
    "\n",
    "R = np.abs( (np.sqrt(epshbn)-1) / (np.sqrt(epshbn)+1) )**2\n",
    "\n",
    "plt.plot(k,R)\n",
    "plt.ylim(0,0.8)\n",
    "plt.show()"
   ]
  },
  {
   "cell_type": "markdown",
   "metadata": {},
   "source": [
    "# Resources"
   ]
  },
  {
   "cell_type": "markdown",
   "metadata": {},
   "source": [
    "[1] Cai, Yongqing, Litong Zhang, Qingfeng Zeng, Laifei Cheng, and Yongdong Xu. 2007. “Infrared Reflectance Spectrum of BN Calculated from First Principles.” Solid State Communications 141 (5): 262–66. https://doi.org/10.1016/j.ssc.2006.10.040.\n"
   ]
  },
  {
   "cell_type": "markdown",
   "metadata": {},
   "source": [
    "[Woessner et al. 2015](https://www.nature.com/articles/nmat4169): Provides references to other Lorentz model parameters of hBN\n",
    "\n",
    "[Ni et al. 2018](http://www.nature.com/articles/s41586-018-0136-9): Provides their own Lorentz model parameters"
   ]
  },
  {
   "cell_type": "code",
   "execution_count": null,
   "metadata": {},
   "outputs": [],
   "source": []
  }
 ],
 "metadata": {
  "kernelspec": {
   "display_name": "Python 3",
   "language": "python",
   "name": "python3"
  },
  "language_info": {
   "codemirror_mode": {
    "name": "ipython",
    "version": 3
   },
   "file_extension": ".py",
   "mimetype": "text/x-python",
   "name": "python",
   "nbconvert_exporter": "python",
   "pygments_lexer": "ipython3",
   "version": "3.7.2"
  }
 },
 "nbformat": 4,
 "nbformat_minor": 2
}
