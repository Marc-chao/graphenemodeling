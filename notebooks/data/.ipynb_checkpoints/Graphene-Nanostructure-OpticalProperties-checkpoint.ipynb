{
 "cells": [
  {
   "cell_type": "code",
   "execution_count": 1,
   "metadata": {},
   "outputs": [],
   "source": [
    "# Tell Jupyter where to find the code\n",
    "import os, sys\n",
    "sys.path.append(os.environ['CODE']) #CODE is defined in the conda environment \"Notes\"\n",
    "import numpy as np\n",
    "import matplotlib.pyplot as plt\n",
    "plt.style.use('notebook')\n",
    "import matplotlib.cm as cm\n",
    "\n",
    "import Graphene\n",
    "import fundamental_constants as fc"
   ]
  },
  {
   "cell_type": "markdown",
   "metadata": {},
   "source": [
    "# The Nonretarded Problem"
   ]
  },
  {
   "cell_type": "markdown",
   "metadata": {},
   "source": [
    "Description from [Christensen 2017, 5.3.1](http://link.springer.com/10.1007/978-3-319-48562-1):\n",
    "\n",
    "In nanostructured graphene ($\\mathbf r_{||}\\in\\Omega$ in the $xy$-plane), one may self-consitently couple Coulomb's law to the continuity equation for charge to find\n",
    "\n",
    "$$\n",
    "\\phi(\\mathbf r_{||})=\\int_\\Omega \\frac{\\rho_{||}(\\mathbf r_{||}}{4\\pi\\epsilon_0\\bar\\epsilon|\\mathbf{r_{||}-r'_{||}}|} d^2\\mathbf r_{||} \\\\\n",
    "\\rho_{||}(\\mathbf r_{||}) =i\\omega^{-1}\\nabla_{||}\\cdot[\\sigma(\\mathbf r_{||},\\omega)\\nabla_{||}\\phi(\\mathbf r_{||})]\n",
    "$$\n",
    "\n",
    "Then the potential $\\phi$ (or equivalently the charge density) can be decomposed into eigenstates $\\left|\\phi_\\nu\\right>$ with eigenvalues\n",
    "\n",
    "$$\n",
    "\\zeta_\\nu \\phi_\\nu(\\mathbf r_{||})=\\frac{-1}{2\\pi}\\int_{\\bar\\Omega} ... \\\\\n",
    "\\zeta_\\nu = \\frac{2 i \\epsilon_0\\bar\\epsilon\\omega_\\nu L}{\\sigma(\\omega_\\nu)}\n",
    "$$"
   ]
  },
  {
   "cell_type": "markdown",
   "metadata": {},
   "source": [
    "## Half Sheet"
   ]
  },
  {
   "cell_type": "markdown",
   "metadata": {},
   "source": [
    "## Ribbon"
   ]
  },
  {
   "cell_type": "markdown",
   "metadata": {},
   "source": [
    "<img src='images/christensen-thesis-2017-fig5-6.png' width='500px'/>"
   ]
  },
  {
   "cell_type": "markdown",
   "metadata": {},
   "source": [
    "## Dipole Polarizibility"
   ]
  },
  {
   "cell_type": "markdown",
   "metadata": {},
   "source": [
    "$$\n",
    "\\alpha(\\omega) = 2L^3 \\sum_\\nu \\frac{|\\left<\\tilde x|\\rho_{||,\\nu}\\right>|^2}{\\zeta_\\nu - \\zeta(\\omega)}\n",
    "$$"
   ]
  },
  {
   "cell_type": "markdown",
   "metadata": {},
   "source": [
    "# `CrossSection`"
   ]
  },
  {
   "cell_type": "code",
   "execution_count": null,
   "metadata": {},
   "outputs": [],
   "source": [
    "mlg_disk1 = Graphene.Disk(1,12.5e-9)\n",
    "mlg_disk2 = Graphene.Disk(1,25e-9)\n",
    "mlg_disk3 = Graphene.Disk(1,50e-9)\n",
    "mlg_disk4 = Graphene.Disk(1,100e-9)\n",
    "\n",
    "omega = np.linspace(0.01,1,num=200)*fc.e_proton / fc.hbar\n",
    "eF = 0.4 * fc.e_proton\n",
    "gamma = 0.012*fc.e_proton / fc.hbar\n",
    "T=300\n",
    "eps_medium=1\n",
    "\n",
    "absorption1 = mlg_disk1.CrossSection(omega,gamma,eF,T,1,'absorption')\n",
    "absorption2 = mlg_disk2.CrossSection(omega,gamma,eF,T,1,'absorption')\n",
    "absorption3 = mlg_disk3.CrossSection(omega,gamma,eF,T,1,'absorption')\n",
    "absorption4 = mlg_disk4.CrossSection(omega,gamma,eF,T,1,'absorption')"
   ]
  },
  {
   "cell_type": "code",
   "execution_count": 13,
   "metadata": {},
   "outputs": [
    {
     "data": {
      "image/png": "[encoded data removed]",
      "text/plain": [
       "<Figure size 432x288 with 1 Axes>"
      ]
     },
     "metadata": {
      "needs_background": "light"
     },
     "output_type": "display_data"
    }
   ],
   "source": [
    "plt.plot(omega*fc.hbar/fc.e_proton,absorption1/(fc.pi*mlg_disk1.size**2)+1.5,color='salmon')\n",
    "plt.plot(omega*fc.hbar/fc.e_proton,absorption2/(fc.pi*mlg_disk2.size**2)+1.0,color='salmon')\n",
    "plt.plot(omega*fc.hbar/fc.e_proton,absorption3/(fc.pi*mlg_disk3.size**2)+0.5,color='salmon')\n",
    "plt.plot(omega*fc.hbar/fc.e_proton,absorption4/(fc.pi*mlg_disk4.size**2)+0.0,color='salmon')\n",
    "\n",
    "plt.xlabel('$\\hbar\\omega (eV)$')\n",
    "plt.ylabel('$\\sigma_{abs}/\\pi r^2$')\n",
    "plt.show()"
   ]
  },
  {
   "cell_type": "markdown",
   "metadata": {},
   "source": [
    "<img src='images/christensen-thesis-2017-fig5-8.png' width='500px'/>"
   ]
  },
  {
   "cell_type": "markdown",
   "metadata": {},
   "source": [
    "# Bounds on Optical Response"
   ]
  },
  {
   "cell_type": "markdown",
   "metadata": {},
   "source": [
    "[Miller et al. 2017](http://pubs.acs.org/doi/10.1021/acs.nanolett.7b02007) describes what is possible for the optical response of various 2D materials. They find that for a 2D scatterer with local conductivity $\\overleftrightarrow\\sigma(\\omega)$, the optical response is bounded by, what they entitle, a *material figure or merit* given by\n",
    "\n",
    "$$\n",
    "\\text{Material FOM:   }F=Z_0||\\overleftrightarrow\\sigma^\\dagger(\\text{Re}[\\overleftrightarrow\\sigma])^{-1}\\overleftrightarrow\\sigma||_2\n",
    "$$\n",
    "\n",
    "where  $||.||_2$ is the *induced matrix 2-norm*. The cross sections $\\sigma_\\alpha$ are found to be bounded by\n",
    "$$\n",
    "\\boxed{\n",
    "    \\sigma_{sca}/A \\leq \\frac{1}{4}F\\\\\n",
    "    \\sigma_{abs}/A \\leq  F\\\\\n",
    "    \\sigma_{ext}/A \\leq  F\\\\\n",
    "}\n",
    "$$\n",
    "\n",
    "\n",
    "They identify graphene as one of the best in the mid-infrared and optical region of the EM spectrum (along with silver). Here, we attempt to replicate their results for graphene using the `Graphene.Nanostructure` class. For comparisons to other materials, see [this notebook] \n",
    "\n",
    "(They don't explicitly state the parameters used in Figure 1, but in later calculations, they use $T=300$ K and $\\gamma$=($10^{12}$ eV/s)/$\\epsilon_F$. Using those parameters, our results match)"
   ]
  },
  {
   "cell_type": "code",
   "execution_count": 2,
   "metadata": {},
   "outputs": [],
   "source": [
    "mlg_nano = graphene.Nanostructure(1)\n",
    "\n",
    "eF = 0.6*fc.e_proton\n",
    "omega = np.linspace(.1,2,num=100)*fc.e_proton /fc.hbar\n",
    "gamma = lambda eF: 10**12 * fc.e_proton / eF\n",
    "T=300\n",
    "\n",
    "bound_gr_high = mlg_nano.OpticalResponseBound(omega,gamma(0.6*fc.e_proton),0.6*fc.e_proton,T)\n",
    "bound_gr_mid = mlg_nano.OpticalResponseBound(omega,gamma(0.4*fc.e_proton),0.4*fc.e_proton,T)\n",
    "bound_gr_low = mlg_nano.OpticalResponseBound(omega,gamma(0.2*fc.e_proton),0.2*fc.e_proton,T)"
   ]
  },
  {
   "cell_type": "code",
   "execution_count": 15,
   "metadata": {},
   "outputs": [
    {
     "data": {
      "image/png": "[encoded data removed]",
      "text/plain": [
       "<Figure size 432x288 with 1 Axes>"
      ]
     },
     "metadata": {
      "needs_background": "light"
     },
     "output_type": "display_data"
    }
   ],
   "source": [
    "plt.semilogy(omega*fc.hbar/fc.e_proton,bound_gr_high,color='black',label='$\\epsilon_F=0.6$ eV')\n",
    "plt.semilogy(omega*fc.hbar/fc.e_proton,bound_gr_mid,color='royalblue',label='$\\epsilon_F=0.4$ eV')\n",
    "plt.semilogy(omega*fc.hbar/fc.e_proton,bound_gr_low,color='darkgreen',label='$\\epsilon_F=0.2$ eV')\n",
    "plt.xlabel('$\\hbar\\omega$')\n",
    "plt.ylabel('Material FOM')\n",
    "plt.ylim(1e-3,1e2)\n",
    "plt.xlim(0.1,2)\n",
    "plt.text(0.12,5*10**1,'T=%d K' %(T),fontsize=14)\n",
    "plt.legend()\n",
    "plt.show()"
   ]
  },
  {
   "cell_type": "markdown",
   "metadata": {},
   "source": [
    "<img src='images/miller-limits-2017-fig1.png' width='400px'/>"
   ]
  },
  {
   "cell_type": "markdown",
   "metadata": {},
   "source": [
    "## Exploring Bounds on Optical Properties"
   ]
  },
  {
   "cell_type": "markdown",
   "metadata": {},
   "source": [
    "At higher temperatures (600 K) the optical reponse of graphene does not diminish much. However, this does not take into account phonons or hydrodynamic effects, which may be needed at these temperatures"
   ]
  },
  {
   "cell_type": "code",
   "execution_count": 14,
   "metadata": {},
   "outputs": [],
   "source": [
    "mlg_nano = graphene.Nanostructure(1)"
   ]
  },
  {
   "cell_type": "code",
   "execution_count": 36,
   "metadata": {},
   "outputs": [],
   "source": [
    "eF = 0.6*fc.e_proton\n",
    "omega = np.linspace(.1,2,num=100)*fc.e_proton /fc.hbar\n",
    "gamma = lambda eF: 10**12 * fc.e_proton / eF\n",
    "T=600\n",
    "\n",
    "bound_gr_high = mlg_nano.OpticalResponseBound(omega,gamma(0.6*fc.e_proton),0.6*fc.e_proton,T)\n",
    "bound_gr_mid = mlg_nano.OpticalResponseBound(omega,gamma(0.4*fc.e_proton),0.4*fc.e_proton,T)\n",
    "bound_gr_low = mlg_nano.OpticalResponseBound(omega,gamma(0.2*fc.e_proton),0.2*fc.e_proton,T)"
   ]
  },
  {
   "cell_type": "code",
   "execution_count": null,
   "metadata": {},
   "outputs": [],
   "source": [
    "plt.semilogy(omega*fc.hbar/fc.e_proton,bound_gr_high,color='black')\n",
    "plt.semilogy(omega*fc.hbar/fc.e_proton,bound_gr_mid,color='black')\n",
    "plt.semilogy(omega*fc.hbar/fc.e_proton,bound_gr_low,color='black')\n",
    "plt.xlabel('$\\hbar\\omega$')\n",
    "plt.ylabel('Material FOM')\n",
    "plt.ylim(1e-3,1e2)\n",
    "plt.xlim(0.1,2)\n",
    "plt.show()"
   ]
  },
  {
   "cell_type": "markdown",
   "metadata": {},
   "source": [
    "# Nanoribbons"
   ]
  },
  {
   "cell_type": "markdown",
   "metadata": {},
   "source": [
    "> An error exists in the specification of the Green function employed in Ref 6. We indicate the correct form here: for the width-normalized momenta $q$ and coordinates $x$, it *should* read $G(x,x')=\\frac{1}{2q}\\left\\{ e^{-q|x-x'|} + \\frac{e^{-q}\\cosh[q(x-x')]+\\cosh[q(x+x')]}{\\sinh q} \\right\\}$\n",
    "as derivable from a minor extension of the half sheet result [7]"
   ]
  },
  {
   "cell_type": "code",
   "execution_count": null,
   "metadata": {},
   "outputs": [],
   "source": [
    "s"
   ]
  }
 ],
 "metadata": {
  "kernelspec": {
   "display_name": "Python 3",
   "language": "python",
   "name": "python3"
  },
  "language_info": {
   "codemirror_mode": {
    "name": "ipython",
    "version": 3
   },
   "file_extension": ".py",
   "mimetype": "text/x-python",
   "name": "python",
   "nbconvert_exporter": "python",
   "pygments_lexer": "ipython3",
   "version": "3.7.2"
  }
 },
 "nbformat": 4,
 "nbformat_minor": 2
}
