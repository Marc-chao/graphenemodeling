{
 "cells": [
  {
   "cell_type": "markdown",
   "metadata": {},
   "source": [
    "# Overview"
   ]
  },
  {
   "cell_type": "markdown",
   "metadata": {},
   "source": [
    "## Validity"
   ]
  },
  {
   "cell_type": "markdown",
   "metadata": {},
   "source": [
    "The hydrodynamic model is valid when electrons are interacting a lot. That is, on long time scales $t\\gg \\tau_{ee}$ and long length scales $\\ell\\gg\\ell_{ee}$. Occurs in graphene when $\\epsilon_F\\sim k_BT$. But can be destroyed in this limit if there are impurities or phonons.\n",
    "\n",
    "Estimate for the time scale\n",
    "\n",
    "$$\n",
    "\\frac{1}{\\tau_{ee}}\\sim \\alpha^2\\frac{k_BT}{\\hbar}\\min(1,k_BT/\\epsilon_F)\\sim \\frac{1}{0.01 ps}\\frac{T}{100K}\\min(1,k_BT/\\epsilon_F)\n",
    "$$\n",
    "which we can think of like \"likelihood of e-e interaction\" ($\\alpha^2$) times rate due to temperature fluctuations $k_BT/\\hbar$ times a scaling by the Fermi level. We need a large electron-electron scattering rate to overcome that due to impurities, so the higher the temperature the better.\n",
    "\n",
    "Note that the mean free path due to electron-electron scattering can be estimated as $\\ell_{ee}\\sim v_F\\tau_{ee}$.\n",
    "-[Lucas and Fong 2018](http://arxiv.org/abs/1710.08425)"
   ]
  },
  {
   "cell_type": "markdown",
   "metadata": {},
   "source": [
    "Scattering "
   ]
  },
  {
   "cell_type": "markdown",
   "metadata": {},
   "source": [
    "\n",
    "Applicable to structures 2-10 nm in size ([Miller 2017](http://pubs.acs.org/doi/10.1021/acs.nanolett.7b02007))."
   ]
  },
  {
   "cell_type": "markdown",
   "metadata": {},
   "source": [
    "## Nonlocal Response"
   ]
  },
  {
   "cell_type": "markdown",
   "metadata": {},
   "source": [
    "\n",
    "$$\n",
    "    \\text{Eqn. 16:} \\nabla\\times\\nabla\\times\\mathbf E(\\mathbf r,\\omega)=\\left(\\frac{\\omega}{c}\\right)^2[\\epsilon(\\omega)+\\xi_H^2\\nabla(\\nabla\\cdot)]\\mathbf E(\\mathbf r,\\omega)\n",
    "\\\\\n",
    "\\text{Eqn. 23 (corrected typo:)}    \\left[\\frac{\\beta^2}{\\omega(\\omega+i\\gamma)} + \\frac{D}{i\\omega}\\right]\\nabla[\\nabla\\cdot\\mathbf J] + \\mathbf J = \\sigma\\mathbf E\n",
    "$$\n",
    "[Raza et al. 2015](https://doi.org/10.1088%2F0953-8984%2F27%2F18%2F183204) (*corrected a typo*)"
   ]
  },
  {
   "cell_type": "markdown",
   "metadata": {},
   "source": [
    "$$\n",
    "\\nabla\\times\\nabla\\times\\mathbf E(\\mathbf r)= \\left(\\frac{\\omega}{c}\\right)^2[\\epsilon_D+\\xi^2\\nabla^2]\\mathbf E(\\mathbf r)\n",
    "$$\n",
    "\n",
    "[Mortensen et al. 2014](http://www.nature.com/articles/ncomms4809)"
   ]
  },
  {
   "cell_type": "markdown",
   "metadata": {},
   "source": [
    "# Relativistic Hydrodynamics"
   ]
  },
  {
   "cell_type": "markdown",
   "metadata": {},
   "source": [
    "Expands on Section 4.2 of [Lucas and Fong 2018](http://arxiv.org/abs/1710.08425)"
   ]
  },
  {
   "cell_type": "markdown",
   "metadata": {},
   "source": [
    "We find equations relating the charge density $n$ and the current $\\mathbf J$. Since graphene has relativistic Dirac Fermions, we combine these quantities nad use relativistic notation. Define\n",
    "\n",
    "$$\n",
    "J^\\mu=(n,\\mathbf J)=g^{\\mu\\nu}J_\\nu=(-n,\\mathbf J)\n",
    "$$"
   ]
  },
  {
   "cell_type": "markdown",
   "metadata": {},
   "source": [
    "Conservation of charge dictates"
   ]
  },
  {
   "cell_type": "markdown",
   "metadata": {},
   "source": [
    "$$\n",
    "0=\\partial_\\mu J^\\mu=0=\\partial_tJ^t+\\nabla\\cdot\\mathbf J=\\frac{\\partial n}{\\partial t}+\\nabla\\cdot\\mathbf J \\implies \\frac{\\partial n}{\\partial t}=-\\nabla\\cdot\\mathbf J\n",
    "$$"
   ]
  },
  {
   "cell_type": "markdown",
   "metadata": {},
   "source": [
    "Now define the stress-energy tensor $T^{\\mu\\nu}$."
   ]
  },
  {
   "cell_type": "markdown",
   "metadata": {},
   "source": [
    "# Resources\n"
   ]
  },
  {
   "cell_type": "markdown",
   "metadata": {},
   "source": [
    "[Christensen et al. 2017](http://link.springer.com/10.1007/978-3-319-48562-1)\n",
    "\n",
    "[Fetter 1986](https://link.aps.org/doi/10.1103/PhysRevB.33.5221)\n",
    "\n",
    "[Christensen 2014](http://arxiv.org/abs/1407.3920)\n",
    "\n",
    "[Lucas and Fong 2018](http://arxiv.org/abs/1710.08425)\n",
    "\n",
    "[Mortensen 2014](http://www.nature.com/articles/ncomms4809)\n",
    "\n",
    "[Raza 2015](https://doi.org/10.1088%2F0953-8984%2F27%2F18%2F183204)"
   ]
  },
  {
   "cell_type": "code",
   "execution_count": null,
   "metadata": {},
   "outputs": [],
   "source": []
  }
 ],
 "metadata": {
  "kernelspec": {
   "display_name": "Python 3",
   "language": "python",
   "name": "python3"
  },
  "language_info": {
   "codemirror_mode": {
    "name": "ipython",
    "version": 3
   },
   "file_extension": ".py",
   "mimetype": "text/x-python",
   "name": "python",
   "nbconvert_exporter": "python",
   "pygments_lexer": "ipython3",
   "version": "3.7.2"
  }
 },
 "nbformat": 4,
 "nbformat_minor": 2
}
